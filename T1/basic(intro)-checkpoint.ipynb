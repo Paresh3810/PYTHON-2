{
 "cells": [
  {
   "cell_type": "code",
   "execution_count": 1,
   "id": "f796065e-a18a-4591-896e-f0974b9b3fa3",
   "metadata": {},
   "outputs": [
    {
     "name": "stdout",
     "output_type": "stream",
     "text": [
      "Requirement already satisfied: pandas in c:\\users\\shiva\\anaconda3\\lib\\site-packages (2.2.2)\n",
      "Requirement already satisfied: numpy>=1.26.0 in c:\\users\\shiva\\anaconda3\\lib\\site-packages (from pandas) (1.26.4)\n",
      "Requirement already satisfied: python-dateutil>=2.8.2 in c:\\users\\shiva\\anaconda3\\lib\\site-packages (from pandas) (2.9.0.post0)\n",
      "Requirement already satisfied: pytz>=2020.1 in c:\\users\\shiva\\anaconda3\\lib\\site-packages (from pandas) (2024.1)\n",
      "Requirement already satisfied: tzdata>=2022.7 in c:\\users\\shiva\\anaconda3\\lib\\site-packages (from pandas) (2023.3)\n",
      "Requirement already satisfied: six>=1.5 in c:\\users\\shiva\\anaconda3\\lib\\site-packages (from python-dateutil>=2.8.2->pandas) (1.16.0)\n",
      "Note: you may need to restart the kernel to use updated packages.\n"
     ]
    }
   ],
   "source": [
    "pip install pandas\n"
   ]
  },
  {
   "cell_type": "code",
   "execution_count": 3,
   "id": "8ddb84ba-013a-460c-886e-0e1bf18e907c",
   "metadata": {},
   "outputs": [
    {
     "name": "stdout",
     "output_type": "stream",
     "text": [
      "a     1\n",
      "b     2\n",
      "c     3\n",
      "d     4\n",
      "e     5\n",
      "f     6\n",
      "g     7\n",
      "h     8\n",
      "i     9\n",
      "j    10\n",
      "Name: number, dtype: int64\n"
     ]
    }
   ],
   "source": [
    "import pandas as pd\n",
    "\n",
    "x=[1,2,3,4,5,6,7,8,9,10]\n",
    "y=pd.Series(x,index=['a','b','c','d','e','f','g','h','i','j'],name=\"number\")\n",
    "print(y)"
   ]
  },
  {
   "cell_type": "code",
   "execution_count": 17,
   "id": "0d1e5e2d-318c-461d-84a2-121f693f4871",
   "metadata": {},
   "outputs": [
    {
     "name": "stdout",
     "output_type": "stream",
     "text": [
      "shivam    20\n",
      "paresh    16\n",
      "rushi     21\n",
      "ayush     24\n",
      "Name: marks, dtype: int64\n"
     ]
    }
   ],
   "source": [
    "import pandas as pd\n",
    "\n",
    "x={\"shivam\":20,\"paresh\":16,\"rushi\":21,\"ayush\":24}\n",
    "y=pd.Series(x,name=\"marks\")\n",
    "print(y)"
   ]
  },
  {
   "cell_type": "code",
   "execution_count": 15,
   "id": "1fc028d8-d092-480e-8032-bede7181617a",
   "metadata": {},
   "outputs": [
    {
     "name": "stdout",
     "output_type": "stream",
     "text": [
      "shivam    20\n",
      "paresh    16\n",
      "Name: marks, dtype: int64\n"
     ]
    }
   ],
   "source": [
    "import pandas as pd\n",
    "\n",
    "x={\"shivam\":20,\"paresh\":16,\"rushi\":21,\"ayush\":24}\n",
    "y=pd.Series(x,name=\"marks\")\n",
    "print(y[0:2])"
   ]
  },
  {
   "cell_type": "code",
   "execution_count": 1,
   "id": "094c1bf4-3f10-4327-a2d8-aa2c448f51a1",
   "metadata": {},
   "outputs": [
    {
     "name": "stdout",
     "output_type": "stream",
     "text": [
      "21\n"
     ]
    },
    {
     "name": "stderr",
     "output_type": "stream",
     "text": [
      "C:\\Users\\shiva\\AppData\\Local\\Temp\\ipykernel_10152\\297387457.py:5: FutureWarning: Series.__getitem__ treating keys as positions is deprecated. In a future version, integer keys will always be treated as labels (consistent with DataFrame behavior). To access a value by position, use `ser.iloc[pos]`\n",
      "  print(y[2])\n"
     ]
    }
   ],
   "source": [
    "import pandas as pd\n",
    "\n",
    "x={\"shivam\":20,\"paresh\":16,\"rushi\":21,\"ayush\":24}\n",
    "y=pd.Series(x,name=\"marks\")\n",
    "print(y[2])"
   ]
  },
  {
   "cell_type": "code",
   "execution_count": 95,
   "id": "eb0766e8-5d08-418a-91a6-6b488a6cc325",
   "metadata": {},
   "outputs": [
    {
     "name": "stdout",
     "output_type": "stream",
     "text": [
      "shivam    20\n",
      "paresh    16\n",
      "rushi     21\n",
      "ayush     24\n",
      "Name: marks, dtype: int64\n"
     ]
    },
    {
     "data": {
      "text/plain": [
       "pandas.core.series.Series"
      ]
     },
     "execution_count": 95,
     "metadata": {},
     "output_type": "execute_result"
    }
   ],
   "source": [
    "import pandas as pd\n",
    "\n",
    "x={\"shivam\":20,\"paresh\":16,\"rushi\":21,\"ayush\":24}\n",
    "y=pd.Series(x,name=\"marks\")\n",
    "print(y[\"shivam\":\"ayush\"])\n",
    "type(y)"
   ]
  },
  {
   "cell_type": "code",
   "execution_count": 13,
   "id": "b3d9eb10-22ca-494f-a7eb-4da6b7d20a2b",
   "metadata": {},
   "outputs": [
    {
     "name": "stdout",
     "output_type": "stream",
     "text": [
      "        T1  T2  T3  T4\n",
      "shivam  20  16  21  24\n",
      "rushi   22  20  20  10\n",
      "ayush   21  19  14  20\n",
      "paresh  17  16  19  14\n"
     ]
    },
    {
     "data": {
      "text/plain": [
       "pandas.core.frame.DataFrame"
      ]
     },
     "execution_count": 13,
     "metadata": {},
     "output_type": "execute_result"
    }
   ],
   "source": [
    "import pandas as pd\n",
    "\n",
    "Name={\"T1\":[20,22,21,17],\"T2\":[16,20,19,16],\"T3\":[21,20,14,19],\"T4\":[24,10,20,14]}\n",
    "y=pd.DataFrame(Name,index=[\"shivam\",\"rushi\",\"ayush\",\"paresh\"])\n",
    "print(y)\n",
    "type(y)"
   ]
  },
  {
   "cell_type": "code",
   "execution_count": 21,
   "id": "f26b4d2c-0ffa-46ff-90a7-30d0ba8c927e",
   "metadata": {},
   "outputs": [
    {
     "name": "stdout",
     "output_type": "stream",
     "text": [
      "      k    d    r\n",
      "T1  NaN  NaN  NaN\n",
      "T2  NaN  NaN  NaN\n",
      "T3  NaN  NaN  NaN\n",
      "T4  NaN  NaN  NaN\n"
     ]
    }
   ],
   "source": [
    "import pandas as pd\n",
    "\n",
    "Name={\"shivam\":[20,22,21,17],\"paresh\":[16,20,19,16],\"rushi\":[21,20,14,19],\"ayush\":[24,10,20,14]}\n",
    "y=pd.DataFrame(Name,index=['T1','T2','T3','T4'],columns=[\"k\",\"d\",\"r\"])\n",
    "print(y)"
   ]
  },
  {
   "cell_type": "code",
   "execution_count": 19,
   "id": "5218fef7-6139-431c-8483-7ed42045117c",
   "metadata": {},
   "outputs": [
    {
     "name": "stdout",
     "output_type": "stream",
     "text": [
      "    shivam  paresh  rushi  ayush  jay\n",
      "T1      20    16.0     21     24   12\n",
      "T2      22    14.0     20     10   11\n",
      "T3      21    19.0     14     20   20\n",
      "T4      17    16.0     19     14   15\n",
      "Index(['shivam', 'paresh', 'rushi', 'ayush', 'jay'], dtype='object')\n",
      "(4, 5)\n",
      "20\n",
      "2\n",
      "shivam      int64\n",
      "paresh    float64\n",
      "rushi       int64\n",
      "ayush       int64\n",
      "jay         int64\n",
      "dtype: object\n",
      "[[20. 16. 21. 24. 12.]\n",
      " [22. 14. 20. 10. 11.]\n",
      " [21. 19. 14. 20. 20.]\n",
      " [17. 16. 19. 14. 15.]]\n"
     ]
    }
   ],
   "source": [
    "import pandas as pd\n",
    "\n",
    "Name={\"shivam\":[20,22,21,17],\"paresh\":[16.00,14,19,16],\"rushi\":[21,20,14,19],\"ayush\":[24,10,20,14],\"jay\":[12,11,20,15]}\n",
    "y=pd.DataFrame(Name,index=['T1','T2','T3','T4'])\n",
    "print(y)\n",
    "y.loc[\"T3\"]\n",
    "print(y.columns)\n",
    "print(y.shape)\n",
    "print(y.size)\n",
    "print(y.ndim)\n",
    "print(y.dtypes)\n",
    "print(y.values)"
   ]
  },
  {
   "cell_type": "code",
   "execution_count": 17,
   "id": "296c5b88-1c98-4f70-9236-56e6c0b198c4",
   "metadata": {},
   "outputs": [
    {
     "data": {
      "text/html": [
       "<div>\n",
       "<style scoped>\n",
       "    .dataframe tbody tr th:only-of-type {\n",
       "        vertical-align: middle;\n",
       "    }\n",
       "\n",
       "    .dataframe tbody tr th {\n",
       "        vertical-align: top;\n",
       "    }\n",
       "\n",
       "    .dataframe thead th {\n",
       "        text-align: right;\n",
       "    }\n",
       "</style>\n",
       "<table border=\"1\" class=\"dataframe\">\n",
       "  <thead>\n",
       "    <tr style=\"text-align: right;\">\n",
       "      <th></th>\n",
       "      <th>T3</th>\n",
       "      <th>T4</th>\n",
       "    </tr>\n",
       "  </thead>\n",
       "  <tbody>\n",
       "    <tr>\n",
       "      <th>shivam</th>\n",
       "      <td>21</td>\n",
       "      <td>24</td>\n",
       "    </tr>\n",
       "    <tr>\n",
       "      <th>rushi</th>\n",
       "      <td>20</td>\n",
       "      <td>10</td>\n",
       "    </tr>\n",
       "    <tr>\n",
       "      <th>ayush</th>\n",
       "      <td>14</td>\n",
       "      <td>20</td>\n",
       "    </tr>\n",
       "  </tbody>\n",
       "</table>\n",
       "</div>"
      ],
      "text/plain": [
       "        T3  T4\n",
       "shivam  21  24\n",
       "rushi   20  10\n",
       "ayush   14  20"
      ]
     },
     "execution_count": 17,
     "metadata": {},
     "output_type": "execute_result"
    }
   ],
   "source": [
    "y.iloc[0:3,2:4]"
   ]
  },
  {
   "cell_type": "code",
   "execution_count": 15,
   "id": "30bee9f2-eaa2-4359-b0a6-d6c6e2f19dfb",
   "metadata": {},
   "outputs": [
    {
     "data": {
      "text/html": [
       "<div>\n",
       "<style scoped>\n",
       "    .dataframe tbody tr th:only-of-type {\n",
       "        vertical-align: middle;\n",
       "    }\n",
       "\n",
       "    .dataframe tbody tr th {\n",
       "        vertical-align: top;\n",
       "    }\n",
       "\n",
       "    .dataframe thead th {\n",
       "        text-align: right;\n",
       "    }\n",
       "</style>\n",
       "<table border=\"1\" class=\"dataframe\">\n",
       "  <thead>\n",
       "    <tr style=\"text-align: right;\">\n",
       "      <th></th>\n",
       "      <th>T1</th>\n",
       "      <th>T2</th>\n",
       "      <th>T3</th>\n",
       "      <th>T4</th>\n",
       "    </tr>\n",
       "  </thead>\n",
       "  <tbody>\n",
       "    <tr>\n",
       "      <th>shivam</th>\n",
       "      <td>NaN</td>\n",
       "      <td>16.0</td>\n",
       "      <td>NaN</td>\n",
       "      <td>NaN</td>\n",
       "    </tr>\n",
       "    <tr>\n",
       "      <th>rushi</th>\n",
       "      <td>NaN</td>\n",
       "      <td>NaN</td>\n",
       "      <td>NaN</td>\n",
       "      <td>NaN</td>\n",
       "    </tr>\n",
       "    <tr>\n",
       "      <th>ayush</th>\n",
       "      <td>NaN</td>\n",
       "      <td>19.0</td>\n",
       "      <td>NaN</td>\n",
       "      <td>NaN</td>\n",
       "    </tr>\n",
       "    <tr>\n",
       "      <th>paresh</th>\n",
       "      <td>17.0</td>\n",
       "      <td>16.0</td>\n",
       "      <td>19.0</td>\n",
       "      <td>NaN</td>\n",
       "    </tr>\n",
       "  </tbody>\n",
       "</table>\n",
       "</div>"
      ],
      "text/plain": [
       "          T1    T2    T3  T4\n",
       "shivam   NaN  16.0   NaN NaN\n",
       "rushi    NaN   NaN   NaN NaN\n",
       "ayush    NaN  19.0   NaN NaN\n",
       "paresh  17.0  16.0  19.0 NaN"
      ]
     },
     "execution_count": 15,
     "metadata": {},
     "output_type": "execute_result"
    }
   ],
   "source": [
    "y[(y>15) & (y<20)]"
   ]
  },
  {
   "cell_type": "code",
   "execution_count": null,
   "id": "10f5718a-8718-4b54-a66d-fa5514d571b8",
   "metadata": {},
   "outputs": [],
   "source": []
  },
  {
   "cell_type": "code",
   "execution_count": null,
   "id": "afca3521-fb81-4621-80c6-5b008220fa10",
   "metadata": {},
   "outputs": [],
   "source": []
  }
 ],
 "metadata": {
  "kernelspec": {
   "display_name": "Python [conda env:base] *",
   "language": "python",
   "name": "conda-base-py"
  },
  "language_info": {
   "codemirror_mode": {
    "name": "ipython",
    "version": 3
   },
   "file_extension": ".py",
   "mimetype": "text/x-python",
   "name": "python",
   "nbconvert_exporter": "python",
   "pygments_lexer": "ipython3",
   "version": "3.12.7"
  }
 },
 "nbformat": 4,
 "nbformat_minor": 5
}
